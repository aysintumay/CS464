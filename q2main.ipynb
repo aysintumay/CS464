{
 "cells": [
  {
   "cell_type": "code",
   "execution_count": 620,
   "id": "13080f90",
   "metadata": {},
   "outputs": [],
   "source": [
    "import numpy as np\n",
    "import pandas as pd\n",
    "import matplotlib.pyplot as plt\n",
    "import math"
   ]
  },
  {
   "cell_type": "code",
   "execution_count": 621,
   "id": "fac5f7f1",
   "metadata": {},
   "outputs": [],
   "source": [
    "train = pd.read_csv(\"bbcsports_train.csv\")\n",
    "test = pd.read_csv(\"bbcsports_val.csv\")\n"
   ]
  },
  {
   "cell_type": "code",
   "execution_count": 622,
   "id": "e7061e70",
   "metadata": {},
   "outputs": [],
   "source": [
    "x_train= train.iloc[:,:-1]\n",
    "y_train= train.iloc[:,-1:]"
   ]
  },
  {
   "cell_type": "code",
   "execution_count": 623,
   "id": "66f9c3f8",
   "metadata": {},
   "outputs": [],
   "source": [
    "x_test=test.iloc[:,:-1]\n",
    "y_test= test.iloc[:,-1:]"
   ]
  },
  {
   "cell_type": "code",
   "execution_count": 624,
   "id": "cea40396",
   "metadata": {},
   "outputs": [
    {
     "data": {
      "text/html": [
       "<div>\n",
       "<style scoped>\n",
       "    .dataframe tbody tr th:only-of-type {\n",
       "        vertical-align: middle;\n",
       "    }\n",
       "\n",
       "    .dataframe tbody tr th {\n",
       "        vertical-align: top;\n",
       "    }\n",
       "\n",
       "    .dataframe thead th {\n",
       "        text-align: right;\n",
       "    }\n",
       "</style>\n",
       "<table border=\"1\" class=\"dataframe\">\n",
       "  <thead>\n",
       "    <tr style=\"text-align: right;\">\n",
       "      <th></th>\n",
       "      <th>class_label</th>\n",
       "    </tr>\n",
       "  </thead>\n",
       "  <tbody>\n",
       "    <tr>\n",
       "      <th>count</th>\n",
       "      <td>552.000000</td>\n",
       "    </tr>\n",
       "    <tr>\n",
       "      <th>mean</th>\n",
       "      <td>2.050725</td>\n",
       "    </tr>\n",
       "    <tr>\n",
       "      <th>std</th>\n",
       "      <td>1.215881</td>\n",
       "    </tr>\n",
       "    <tr>\n",
       "      <th>min</th>\n",
       "      <td>0.000000</td>\n",
       "    </tr>\n",
       "    <tr>\n",
       "      <th>25%</th>\n",
       "      <td>1.000000</td>\n",
       "    </tr>\n",
       "    <tr>\n",
       "      <th>50%</th>\n",
       "      <td>2.000000</td>\n",
       "    </tr>\n",
       "    <tr>\n",
       "      <th>75%</th>\n",
       "      <td>3.000000</td>\n",
       "    </tr>\n",
       "    <tr>\n",
       "      <th>max</th>\n",
       "      <td>4.000000</td>\n",
       "    </tr>\n",
       "  </tbody>\n",
       "</table>\n",
       "</div>"
      ],
      "text/plain": [
       "       class_label\n",
       "count   552.000000\n",
       "mean      2.050725\n",
       "std       1.215881\n",
       "min       0.000000\n",
       "25%       1.000000\n",
       "50%       2.000000\n",
       "75%       3.000000\n",
       "max       4.000000"
      ]
     },
     "execution_count": 624,
     "metadata": {},
     "output_type": "execute_result"
    }
   ],
   "source": [
    "y_train.describe()"
   ]
  },
  {
   "cell_type": "code",
   "execution_count": 625,
   "id": "2a994cd1",
   "metadata": {},
   "outputs": [
    {
     "data": {
      "text/html": [
       "<div>\n",
       "<style scoped>\n",
       "    .dataframe tbody tr th:only-of-type {\n",
       "        vertical-align: middle;\n",
       "    }\n",
       "\n",
       "    .dataframe tbody tr th {\n",
       "        vertical-align: top;\n",
       "    }\n",
       "\n",
       "    .dataframe thead th {\n",
       "        text-align: right;\n",
       "    }\n",
       "</style>\n",
       "<table border=\"1\" class=\"dataframe\">\n",
       "  <thead>\n",
       "    <tr style=\"text-align: right;\">\n",
       "      <th></th>\n",
       "      <th>class_label</th>\n",
       "    </tr>\n",
       "  </thead>\n",
       "  <tbody>\n",
       "    <tr>\n",
       "      <th>count</th>\n",
       "      <td>185.000000</td>\n",
       "    </tr>\n",
       "    <tr>\n",
       "      <th>mean</th>\n",
       "      <td>1.962162</td>\n",
       "    </tr>\n",
       "    <tr>\n",
       "      <th>std</th>\n",
       "      <td>1.185820</td>\n",
       "    </tr>\n",
       "    <tr>\n",
       "      <th>min</th>\n",
       "      <td>0.000000</td>\n",
       "    </tr>\n",
       "    <tr>\n",
       "      <th>25%</th>\n",
       "      <td>1.000000</td>\n",
       "    </tr>\n",
       "    <tr>\n",
       "      <th>50%</th>\n",
       "      <td>2.000000</td>\n",
       "    </tr>\n",
       "    <tr>\n",
       "      <th>75%</th>\n",
       "      <td>3.000000</td>\n",
       "    </tr>\n",
       "    <tr>\n",
       "      <th>max</th>\n",
       "      <td>4.000000</td>\n",
       "    </tr>\n",
       "  </tbody>\n",
       "</table>\n",
       "</div>"
      ],
      "text/plain": [
       "       class_label\n",
       "count   185.000000\n",
       "mean      1.962162\n",
       "std       1.185820\n",
       "min       0.000000\n",
       "25%       1.000000\n",
       "50%       2.000000\n",
       "75%       3.000000\n",
       "max       4.000000"
      ]
     },
     "execution_count": 625,
     "metadata": {},
     "output_type": "execute_result"
    }
   ],
   "source": [
    "y_test.describe()"
   ]
  },
  {
   "cell_type": "markdown",
   "id": "73193811",
   "metadata": {},
   "source": [
    "The number of 0 occurances of each word for all documents."
   ]
  },
  {
   "cell_type": "code",
   "execution_count": 626,
   "id": "5fe2bcd5",
   "metadata": {},
   "outputs": [
    {
     "data": {
      "text/plain": [
       "claxton        548\n",
       "hunt           546\n",
       "first          273\n",
       "major          495\n",
       "medal          523\n",
       "              ... \n",
       "fiveset        552\n",
       "mario          549\n",
       "ancic          549\n",
       "lundgren       549\n",
       "class_label     77\n",
       "Length: 4614, dtype: int64"
      ]
     },
     "execution_count": 626,
     "metadata": {},
     "output_type": "execute_result"
    }
   ],
   "source": [
    "(train==0).sum()"
   ]
  },
  {
   "cell_type": "markdown",
   "id": "c7b504ad",
   "metadata": {},
   "source": [
    "Converting class numbers to the corresponding class names"
   ]
  },
  {
   "cell_type": "code",
   "execution_count": 627,
   "id": "e80d4cbe",
   "metadata": {},
   "outputs": [],
   "source": [
    "class_names=[]\n",
    "for i in train.class_label.values:\n",
    "    if i==0:\n",
    "        class_names.append(\"athletics\")\n",
    "    elif i==1:\n",
    "        class_names.append(\"cricket\")\n",
    "    elif i==2:\n",
    "        class_names.append(\"football\")\n",
    "    elif i==3:\n",
    "        class_names.append(\"rugby\")\n",
    "    elif i==4:\n",
    "        class_names.append(\"tennis\")\n"
   ]
  },
  {
   "cell_type": "code",
   "execution_count": 628,
   "id": "617493c1",
   "metadata": {},
   "outputs": [],
   "source": [
    "class_names_val=[]\n",
    "for i in test.class_label.values:\n",
    "    if i==0:\n",
    "        class_names_val.append(\"athletics\")\n",
    "    elif i==1:\n",
    "        class_names_val.append(\"cricket\")\n",
    "    elif i==2:\n",
    "        class_names_val.append(\"football\")\n",
    "    elif i==3:\n",
    "        class_names_val.append(\"rugby\")\n",
    "    elif i==4:\n",
    "        class_names_val.append(\"tennis\")"
   ]
  },
  {
   "cell_type": "markdown",
   "id": "17f4e45c",
   "metadata": {},
   "source": [
    "Checking the skewness of the training set"
   ]
  },
  {
   "cell_type": "code",
   "execution_count": 629,
   "id": "60d5d33b",
   "metadata": {},
   "outputs": [
    {
     "data": {
      "text/plain": [
       "-0.097310105999175"
      ]
     },
     "execution_count": 629,
     "metadata": {},
     "output_type": "execute_result"
    }
   ],
   "source": [
    "train.class_label.skew(axis = 0)\n"
   ]
  },
  {
   "cell_type": "code",
   "execution_count": 630,
   "id": "e1349d86",
   "metadata": {},
   "outputs": [
    {
     "data": {
      "text/plain": [
       "Text(0.5, 1.0, 'The Disribution of Classes')"
      ]
     },
     "execution_count": 630,
     "metadata": {},
     "output_type": "execute_result"
    },
    {
     "data": {
      "image/png": "[encoded data removed]",
      "text/plain": [
       "<Figure size 432x288 with 1 Axes>"
      ]
     },
     "metadata": {
      "needs_background": "light"
     },
     "output_type": "display_data"
    }
   ],
   "source": [
    "plt.hist([class_names], color=['r'], alpha=0.5)\n",
    "plt.xlabel(\"Class label\")\n",
    "plt.ylabel(\"Count of the words\")\n",
    "plt.title(\"The Disribution of Classes\")"
   ]
  },
  {
   "cell_type": "code",
   "execution_count": 631,
   "id": "e5d1ba36",
   "metadata": {},
   "outputs": [
    {
     "data": {
      "text/plain": [
       "Text(0.5, 1.0, 'The Disribution of Classes of Train and Validation Sets')"
      ]
     },
     "execution_count": 631,
     "metadata": {},
     "output_type": "execute_result"
    },
    {
     "data": {
      "image/png": "[encoded data removed]",
      "text/plain": [
       "<Figure size 720x360 with 1 Axes>"
      ]
     },
     "metadata": {
      "needs_background": "light"
     },
     "output_type": "display_data"
    }
   ],
   "source": [
    "f, ax = plt.subplots(figsize=(10, 5))\n",
    "plt.hist([class_names, class_names_val], color=['r','b'],alpha=0.5)\n",
    "plt.xlabel(\"Class label\")\n",
    "plt.ylabel(\"Count of the words\")\n",
    "plt.title(\"The Disribution of Classes of Train and Validation Sets\")"
   ]
  },
  {
   "cell_type": "markdown",
   "id": "0ec66514",
   "metadata": {},
   "source": [
    "The skewness of validation set"
   ]
  },
  {
   "cell_type": "code",
   "execution_count": 632,
   "id": "c56e1b75",
   "metadata": {},
   "outputs": [
    {
     "data": {
      "text/plain": [
       "0.053970839502950604"
      ]
     },
     "execution_count": 632,
     "metadata": {},
     "output_type": "execute_result"
    }
   ],
   "source": [
    "test.class_label.skew(axis = 0)"
   ]
  },
  {
   "cell_type": "markdown",
   "id": "a9d1faf0",
   "metadata": {},
   "source": [
    "Sorting the mean of the number of words in descending order"
   ]
  },
  {
   "cell_type": "code",
   "execution_count": 633,
   "id": "12da9f24",
   "metadata": {},
   "outputs": [
    {
     "data": {
      "text/plain": [
       "plai       1.260870\n",
       "game       1.181159\n",
       "win        1.023551\n",
       "player     0.987319\n",
       "england    0.961957\n",
       "dtype: float64"
      ]
     },
     "execution_count": 633,
     "metadata": {},
     "output_type": "execute_result"
    }
   ],
   "source": [
    "x_train.mean().sort_values(ascending=False).head()"
   ]
  },
  {
   "cell_type": "markdown",
   "id": "a86360fa",
   "metadata": {},
   "source": [
    "Sorting the max occurances in the descending order"
   ]
  },
  {
   "cell_type": "code",
   "execution_count": 656,
   "id": "841dc8e6",
   "metadata": {},
   "outputs": [
    {
     "data": {
      "text/plain": [
       "roddick       53\n",
       "nadal         46\n",
       "zealand       32\n",
       "dallaglio     25\n",
       "point         25\n",
       "              ..\n",
       "sadli          0\n",
       "bu             0\n",
       "glamorgan      0\n",
       "wigan          0\n",
       "centrehalf     0\n",
       "Length: 4614, dtype: int64"
      ]
     },
     "execution_count": 656,
     "metadata": {},
     "output_type": "execute_result"
    }
   ],
   "source": [
    "train.max().sort_values(ascending=False)"
   ]
  },
  {
   "cell_type": "markdown",
   "id": "5f199224",
   "metadata": {},
   "source": [
    "The words that have never occured"
   ]
  },
  {
   "cell_type": "code",
   "execution_count": 657,
   "id": "319526d6",
   "metadata": {},
   "outputs": [
    {
     "data": {
      "text/plain": [
       "3000m         0\n",
       "raw           0\n",
       "sadli         0\n",
       "glamorgan     0\n",
       "bu            0\n",
       "condemn       0\n",
       "alec          0\n",
       "24th          0\n",
       "section       0\n",
       "centrehalf    0\n",
       "bullock       0\n",
       "sfa           0\n",
       "tag           0\n",
       "wigan         0\n",
       "bbc1          0\n",
       "fiveset       0\n",
       "dtype: int64"
      ]
     },
     "execution_count": 657,
     "metadata": {},
     "output_type": "execute_result"
    }
   ],
   "source": [
    "train.sum()[train.sum()==0]"
   ]
  },
  {
   "cell_type": "code",
   "execution_count": 659,
   "id": "8545ef91",
   "metadata": {},
   "outputs": [],
   "source": [
    "# #of documents of each class\n",
    "N_cricket= np.shape(np.where(y_train==1))[1]\n",
    "N_athletics= np.shape(np.where(y_train==0))[1]\n",
    "N_football= np.shape(np.where(y_train==2))[1]\n",
    "N_rugby= np.shape(np.where(y_train==3))[1]\n",
    "N_tennis= np.shape(np.where(y_train==2))[1]\n",
    "\n",
    "#Total #of documents\n",
    "total_N= train.shape[0]"
   ]
  },
  {
   "cell_type": "code",
   "execution_count": 660,
   "id": "1dfaad9b",
   "metadata": {},
   "outputs": [],
   "source": [
    "#Priors of each class\n",
    "prob_cricket= N_cricket/total_N\n",
    "prob_athletics= N_athletics/total_N\n",
    "prob_football= N_football/total_N\n",
    "prob_rugby= N_rugby/total_N\n",
    "prob_tennis= N_tennis/total_N\n",
    "priors = [prob_cricket,prob_athletics,prob_football,prob_rugby,prob_tennis]"
   ]
  },
  {
   "cell_type": "code",
   "execution_count": 661,
   "id": "1c036895",
   "metadata": {},
   "outputs": [],
   "source": [
    "# class data\n",
    "data_cricket  = train[train.class_label==1].iloc[:,0:train.shape[1]-1]\n",
    "data_athletics  = train[train.class_label==0].iloc[:,0:train.shape[1]-1]\n",
    "data_football  = train[train.class_label==2].iloc[:,0:train.shape[1]-1]\n",
    "data_rugby  = train[train.class_label==3].iloc[:,0:train.shape[1]-1]\n",
    "data_tennis  = train[train.class_label==4].iloc[:, 0:train.shape[1]-1].values"
   ]
  },
  {
   "cell_type": "code",
   "execution_count": 662,
   "id": "961a1787",
   "metadata": {},
   "outputs": [],
   "source": [
    "#occurence of each word for corresponding classes\n",
    "cricket_word  = data_cricket.sum(axis=0)  # Tj cricket\n",
    "football_word = data_football.sum(axis=0) #Tj football\n",
    "athletics_word = data_athletics.sum(axis=0) #Tj athletics\n",
    "rugby_word = data_rugby.sum(axis=0) #Tj, rugby\n",
    "tennis_word  = data_tennis.sum(axis=0) # Tj, tennis\n"
   ]
  },
  {
   "cell_type": "code",
   "execution_count": 663,
   "id": "e9c57e12",
   "metadata": {},
   "outputs": [],
   "source": [
    "#likelihoods P(Xj|Y=yk)\n",
    "cricket_posterior = cricket_word/cricket_word.sum() # P(Xj|yk=cricket)\n",
    "football_posterior = football_word/ football_word.sum()# P(Xj|yk=football)\n",
    "athletics_posterior = athletics_word/athletics_word.sum()# P(Xj|yk=athletis)\n",
    "rugby_posterior = rugby_word/rugby_word.sum()# P(Xj|yk=rugby)\n",
    "tennis_posterior = tennis_word/tennis_word.sum()# P(Xj|yk=tennis)"
   ]
  },
  {
   "cell_type": "code",
   "execution_count": 664,
   "id": "68e99c4e",
   "metadata": {},
   "outputs": [],
   "source": [
    "posterior_Arr = [athletics_posterior,cricket_posterior,football_posterior,rugby_posterior,tennis_posterior]\n"
   ]
  },
  {
   "cell_type": "markdown",
   "id": "2fa4f133",
   "metadata": {},
   "source": [
    "# MLE Estimator"
   ]
  },
  {
   "cell_type": "code",
   "execution_count": 665,
   "id": "d6da6ea9",
   "metadata": {},
   "outputs": [],
   "source": [
    "# MLE \n",
    "def MLE(posterior_prob):\n",
    "    multip_arr=np.zeros((test.shape[0],5))\n",
    "    for i in range(0,len(posterior_prob)):  \n",
    "        kk=np.zeros((1,test.shape[0]))\n",
    "        for j  in range(0,test.shape[0]):\n",
    "            kk[0][j] = (x_test.loc[j].mul(np.log(posterior_prob[i]))).sum()\n",
    "            if kk[0][j] ==-math.inf:\n",
    "                kk[0][j]=np.nan_to_num(-np.inf)\n",
    "            \n",
    "            multip_arr[j][i] =+ np.log(priors[i])+kk[0][j]\n",
    "           \n",
    "    return multip_arr"
   ]
  },
  {
   "cell_type": "code",
   "execution_count": 666,
   "id": "31ffa35c",
   "metadata": {},
   "outputs": [
    {
     "name": "stderr",
     "output_type": "stream",
     "text": [
      "C:\\Users\\User\\Anaconda3\\lib\\site-packages\\pandas\\core\\arraylike.py:358: RuntimeWarning: divide by zero encountered in log\n",
      "  result = getattr(ufunc, method)(*inputs, **kwargs)\n",
      "C:\\Users\\User\\Anaconda3\\lib\\site-packages\\ipykernel_launcher.py:7: RuntimeWarning: divide by zero encountered in log\n",
      "  import sys\n"
     ]
    }
   ],
   "source": [
    "df_multiplication=MLE(posterior_Arr)"
   ]
  },
  {
   "cell_type": "code",
   "execution_count": 667,
   "id": "b569d40d",
   "metadata": {},
   "outputs": [],
   "source": [
    "def classify(MLE_results):\n",
    "    \n",
    "    index_max =np.argmax(MLE_results,axis=1)\n",
    "    confusion_f= pd.concat([y_test,pd.DataFrame(index_max)] ,axis=1)\n",
    "    confusion_f.columns =[\"ground truth\", \"predictions\"]\n",
    "    return confusion_f"
   ]
  },
  {
   "cell_type": "code",
   "execution_count": 683,
   "id": "e2e1f305",
   "metadata": {},
   "outputs": [
    {
     "data": {
      "text/html": [
       "<div>\n",
       "<style scoped>\n",
       "    .dataframe tbody tr th:only-of-type {\n",
       "        vertical-align: middle;\n",
       "    }\n",
       "\n",
       "    .dataframe tbody tr th {\n",
       "        vertical-align: top;\n",
       "    }\n",
       "\n",
       "    .dataframe thead th {\n",
       "        text-align: right;\n",
       "    }\n",
       "</style>\n",
       "<table border=\"1\" class=\"dataframe\">\n",
       "  <thead>\n",
       "    <tr style=\"text-align: right;\">\n",
       "      <th></th>\n",
       "      <th>ground truth</th>\n",
       "      <th>predictions</th>\n",
       "    </tr>\n",
       "  </thead>\n",
       "  <tbody>\n",
       "    <tr>\n",
       "      <th>0</th>\n",
       "      <td>4</td>\n",
       "      <td>0</td>\n",
       "    </tr>\n",
       "    <tr>\n",
       "      <th>1</th>\n",
       "      <td>2</td>\n",
       "      <td>0</td>\n",
       "    </tr>\n",
       "    <tr>\n",
       "      <th>2</th>\n",
       "      <td>1</td>\n",
       "      <td>0</td>\n",
       "    </tr>\n",
       "    <tr>\n",
       "      <th>3</th>\n",
       "      <td>2</td>\n",
       "      <td>0</td>\n",
       "    </tr>\n",
       "    <tr>\n",
       "      <th>4</th>\n",
       "      <td>4</td>\n",
       "      <td>0</td>\n",
       "    </tr>\n",
       "    <tr>\n",
       "      <th>...</th>\n",
       "      <td>...</td>\n",
       "      <td>...</td>\n",
       "    </tr>\n",
       "    <tr>\n",
       "      <th>180</th>\n",
       "      <td>2</td>\n",
       "      <td>0</td>\n",
       "    </tr>\n",
       "    <tr>\n",
       "      <th>181</th>\n",
       "      <td>0</td>\n",
       "      <td>0</td>\n",
       "    </tr>\n",
       "    <tr>\n",
       "      <th>182</th>\n",
       "      <td>4</td>\n",
       "      <td>0</td>\n",
       "    </tr>\n",
       "    <tr>\n",
       "      <th>183</th>\n",
       "      <td>2</td>\n",
       "      <td>0</td>\n",
       "    </tr>\n",
       "    <tr>\n",
       "      <th>184</th>\n",
       "      <td>2</td>\n",
       "      <td>0</td>\n",
       "    </tr>\n",
       "  </tbody>\n",
       "</table>\n",
       "<p>185 rows × 2 columns</p>\n",
       "</div>"
      ],
      "text/plain": [
       "     ground truth  predictions\n",
       "0               4            0\n",
       "1               2            0\n",
       "2               1            0\n",
       "3               2            0\n",
       "4               4            0\n",
       "..            ...          ...\n",
       "180             2            0\n",
       "181             0            0\n",
       "182             4            0\n",
       "183             2            0\n",
       "184             2            0\n",
       "\n",
       "[185 rows x 2 columns]"
      ]
     },
     "execution_count": 683,
     "metadata": {},
     "output_type": "execute_result"
    }
   ],
   "source": [
    "confusion = classify(df_multiplication)\n",
    "confusion"
   ]
  },
  {
   "cell_type": "code",
   "execution_count": 669,
   "id": "f95c8b00",
   "metadata": {},
   "outputs": [],
   "source": [
    "def evaluate_classification(confusion_matrix):\n",
    "     \n",
    "     tp = (confusion_matrix[\"ground truth\"]==confusion_matrix[\"predictions\"]).sum()\n",
    "     tn = (confusion_matrix[\"ground truth\"]!=confusion_matrix[\"predictions\"]).sum()\n",
    "     accuracy = tp/(tp+tn)\n",
    "     return accuracy, tn"
   ]
  },
  {
   "cell_type": "code",
   "execution_count": 670,
   "id": "de745d96",
   "metadata": {},
   "outputs": [],
   "source": [
    "precision, wrong_pred= evaluate_classification(confusion)"
   ]
  },
  {
   "cell_type": "code",
   "execution_count": 671,
   "id": "40e04aef",
   "metadata": {},
   "outputs": [
    {
     "name": "stdout",
     "output_type": "stream",
     "text": [
      "Validation accuracy is  24.32 %. \n",
      " Number of wrong predictions 140 .\n"
     ]
    }
   ],
   "source": [
    "print('Validation accuracy is  %.2f' % (precision*100), '%. \\n','Number of wrong predictions', wrong_pred,'.')"
   ]
  },
  {
   "cell_type": "markdown",
   "id": "6f941b04",
   "metadata": {},
   "source": [
    "# MAP Estimator"
   ]
  },
  {
   "cell_type": "code",
   "execution_count": 672,
   "id": "f06c9e83",
   "metadata": {},
   "outputs": [],
   "source": [
    "alpha = 1"
   ]
  },
  {
   "cell_type": "code",
   "execution_count": 673,
   "id": "14c17a13",
   "metadata": {},
   "outputs": [],
   "source": [
    "#Likelihoods P(Xj|Y=yk)\n",
    "cricket_posterior_MAP = (cricket_word+alpha)/(cricket_word.sum()+alpha*x_test.shape[1]) # P(Xj|yk=cricket)\n",
    "football_posterior_MAP = (football_word+alpha)/ (football_word.sum()+alpha*x_test.shape[1])# P(Xj|yk=football)\n",
    "athletics_posterior_MAP = (athletics_word+alpha)/(athletics_word.sum()+alpha*x_test.shape[1])# P(Xj|yk=athletis)\n",
    "rugby_posterior_MAP = (rugby_word+alpha)/(rugby_word.sum()+alpha*x_test.shape[1])# P(Xj|yk=rugby)\n",
    "tennis_posterior_MAP = (tennis_word+alpha)/(tennis_word.sum()+alpha*x_test.shape[1])# P(Xj|yk=tennis)"
   ]
  },
  {
   "cell_type": "code",
   "execution_count": 674,
   "id": "6375ee2a",
   "metadata": {},
   "outputs": [],
   "source": [
    "posterior_Arr_MAP = [athletics_posterior_MAP,cricket_posterior_MAP,football_posterior_MAP,rugby_posterior_MAP,tennis_posterior_MAP]\n"
   ]
  },
  {
   "cell_type": "code",
   "execution_count": 675,
   "id": "a5b9a4da",
   "metadata": {},
   "outputs": [],
   "source": [
    "MAP_mul = MLE(posterior_Arr_MAP)\n",
    "confusion_MAP = classify(MAP_mul)\n",
    "precision_MAP, wrong_pred_MAP = evaluate_classification(confusion_MAP)"
   ]
  },
  {
   "cell_type": "code",
   "execution_count": 676,
   "id": "ba7d949b",
   "metadata": {},
   "outputs": [
    {
     "name": "stdout",
     "output_type": "stream",
     "text": [
      "Validation accuracy is  97.30 %.\n",
      " Number of wrong predictions 5 .\n"
     ]
    }
   ],
   "source": [
    "print('Validation accuracy is  %.2f' % (precision_MAP*100), '%.\\n','Number of wrong predictions', wrong_pred_MAP,'.')"
   ]
  },
  {
   "cell_type": "code",
   "execution_count": 682,
   "id": "d1b7493d",
   "metadata": {},
   "outputs": [
    {
     "data": {
      "text/html": [
       "<div>\n",
       "<style scoped>\n",
       "    .dataframe tbody tr th:only-of-type {\n",
       "        vertical-align: middle;\n",
       "    }\n",
       "\n",
       "    .dataframe tbody tr th {\n",
       "        vertical-align: top;\n",
       "    }\n",
       "\n",
       "    .dataframe thead th {\n",
       "        text-align: right;\n",
       "    }\n",
       "</style>\n",
       "<table border=\"1\" class=\"dataframe\">\n",
       "  <thead>\n",
       "    <tr style=\"text-align: right;\">\n",
       "      <th></th>\n",
       "      <th>ground truth</th>\n",
       "      <th>predictions</th>\n",
       "    </tr>\n",
       "  </thead>\n",
       "  <tbody>\n",
       "    <tr>\n",
       "      <th>0</th>\n",
       "      <td>4</td>\n",
       "      <td>4</td>\n",
       "    </tr>\n",
       "    <tr>\n",
       "      <th>1</th>\n",
       "      <td>2</td>\n",
       "      <td>2</td>\n",
       "    </tr>\n",
       "    <tr>\n",
       "      <th>2</th>\n",
       "      <td>1</td>\n",
       "      <td>1</td>\n",
       "    </tr>\n",
       "    <tr>\n",
       "      <th>3</th>\n",
       "      <td>2</td>\n",
       "      <td>2</td>\n",
       "    </tr>\n",
       "    <tr>\n",
       "      <th>4</th>\n",
       "      <td>4</td>\n",
       "      <td>4</td>\n",
       "    </tr>\n",
       "    <tr>\n",
       "      <th>...</th>\n",
       "      <td>...</td>\n",
       "      <td>...</td>\n",
       "    </tr>\n",
       "    <tr>\n",
       "      <th>180</th>\n",
       "      <td>2</td>\n",
       "      <td>2</td>\n",
       "    </tr>\n",
       "    <tr>\n",
       "      <th>181</th>\n",
       "      <td>0</td>\n",
       "      <td>0</td>\n",
       "    </tr>\n",
       "    <tr>\n",
       "      <th>182</th>\n",
       "      <td>4</td>\n",
       "      <td>4</td>\n",
       "    </tr>\n",
       "    <tr>\n",
       "      <th>183</th>\n",
       "      <td>2</td>\n",
       "      <td>2</td>\n",
       "    </tr>\n",
       "    <tr>\n",
       "      <th>184</th>\n",
       "      <td>2</td>\n",
       "      <td>2</td>\n",
       "    </tr>\n",
       "  </tbody>\n",
       "</table>\n",
       "<p>185 rows × 2 columns</p>\n",
       "</div>"
      ],
      "text/plain": [
       "     ground truth  predictions\n",
       "0               4            4\n",
       "1               2            2\n",
       "2               1            1\n",
       "3               2            2\n",
       "4               4            4\n",
       "..            ...          ...\n",
       "180             2            2\n",
       "181             0            0\n",
       "182             4            4\n",
       "183             2            2\n",
       "184             2            2\n",
       "\n",
       "[185 rows x 2 columns]"
      ]
     },
     "execution_count": 682,
     "metadata": {},
     "output_type": "execute_result"
    }
   ],
   "source": [
    "confusion_MAP"
   ]
  }
 ],
 "metadata": {
  "kernelspec": {
   "display_name": "Python 3",
   "language": "python",
   "name": "python3"
  },
  "language_info": {
   "codemirror_mode": {
    "name": "ipython",
    "version": 3
   },
   "file_extension": ".py",
   "mimetype": "text/x-python",
   "name": "python",
   "nbconvert_exporter": "python",
   "pygments_lexer": "ipython3",
   "version": "3.7.4"
  }
 },
 "nbformat": 4,
 "nbformat_minor": 5
}
